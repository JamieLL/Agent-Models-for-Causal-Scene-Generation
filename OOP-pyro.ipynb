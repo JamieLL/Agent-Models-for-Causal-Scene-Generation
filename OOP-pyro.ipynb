{
 "cells": [
  {
   "cell_type": "code",
   "execution_count": 1,
   "metadata": {},
   "outputs": [],
   "source": [
    "import pyro\n",
    "import torch\n",
    "import random\n",
    "pyro.set_rng_seed(101)\n",
    "\n",
    "import pyro.distributions as dist\n",
    "from pyro.infer import Importance, EmpiricalMarginal\n",
    "import matplotlib.pyplot as plt\n",
    "\n",
    "import numpy as np\n",
    "import pandas as pd\n",
    "\n",
    "from memo import memo"
   ]
  },
  {
   "cell_type": "code",
   "execution_count": 2,
   "metadata": {},
   "outputs": [],
   "source": [
    "label = {'interest': [\"sports\", \"politics\"],\n",
    "         'connect_type': [\"acquaintance\", \"close friend\", \"family\"],\n",
    "    }"
   ]
  },
  {
   "cell_type": "code",
   "execution_count": 3,
   "metadata": {},
   "outputs": [],
   "source": [
    "class Person(object):\n",
    "    def __init__(self):\n",
    "        self.interest = self.getInterest()\n",
    "    \n",
    "    def getInterest(self):\n",
    "        interest_prob = torch.tensor([0.5, 0.5])\n",
    "        self.interest = pyro.sample(\"interest_ori\", dist.Categorical(interest_prob))\n",
    "        return self.interest"
   ]
  },
  {
   "cell_type": "code",
   "execution_count": 4,
   "metadata": {},
   "outputs": [],
   "source": [
    "class Commenter(object):\n",
    "    def __init__(self):\n",
    "        self.interest = self.getInterest()\n",
    "    \n",
    "    def getInterest(self):\n",
    "        interest_prob = torch.tensor([0.5, 0.5])\n",
    "        self.interest = pyro.sample(\"c_interest\", dist.Categorical(interest_prob))\n",
    "        return self.interest"
   ]
  },
  {
   "cell_type": "code",
   "execution_count": 5,
   "metadata": {},
   "outputs": [],
   "source": [
    "class Post(object):\n",
    "    def __init__(self, poster):\n",
    "        self.poster = poster\n",
    "        self.topic = self.getTopic()\n",
    "        \n",
    "    def getTopic(self):\n",
    "        prob_dict = {'poster': torch.tensor([0.9, 0.1]),\n",
    "                    'other': torch.tensor([0.5, 0.5])}\n",
    "        isPoster = pyro.sample(\"poster\", dist.Categorical(prob_dict['poster']))\n",
    "        if isPoster:\n",
    "#             self.topic = pyro.sample('topic', dist.Delta(self.poster.interest))\n",
    "            self.topic = self.poster.interest\n",
    "        else:\n",
    "            self.topic = pyro.sample(\"topic\", dist.Categorical(prob_dict['other']))\n",
    "        return self.topic"
   ]
  },
  {
   "cell_type": "code",
   "execution_count": 6,
   "metadata": {},
   "outputs": [],
   "source": [
    "class Connection(object):\n",
    "    def __init__(self, person1, person2):\n",
    "        self.person1 = person1\n",
    "        self.person2 = person2\n",
    "        self.type = self.getType()\n",
    "        \n",
    "    def getType(self):\n",
    "        self.type = random.choices(label['connect_type'], k=1)[0]\n",
    "        return self.type\n",
    "\n",
    "@memo\n",
    "def generateConnection(person1, person2):\n",
    "    return Connection(person1, person2)"
   ]
  },
  {
   "cell_type": "code",
   "execution_count": 7,
   "metadata": {},
   "outputs": [],
   "source": [
    "class Comment(object):\n",
    "    def __init__(self, post, commenter):\n",
    "        self.post = post\n",
    "        self.commenter = commenter\n",
    "        self.isTopicMatch = post.topic == commenter.interest\n",
    "        self.connectionType = generateConnection(post.poster, commenter).type\n",
    "        self.constraint = self.getConstraint()\n",
    "        \n",
    "    def getConstraint(self):\n",
    "        if self.isTopicMatch: \n",
    "            self.constraint = 1\n",
    "        elif self.connectionType == \"family\":\n",
    "            self.constraint = 0.8\n",
    "        elif self.connectionType == \"close friend\":\n",
    "            self.constraint = 0.5\n",
    "        else:\n",
    "            self.constraint = 0.1\n",
    "        return self.constraint"
   ]
  },
  {
   "cell_type": "code",
   "execution_count": 8,
   "metadata": {},
   "outputs": [
    {
     "name": "stdout",
     "output_type": "stream",
     "text": [
      "{'interest': tensor(0), 'topic': tensor(0), 'c_interest': tensor(1), 'match': tensor(0.5000)}\n"
     ]
    }
   ],
   "source": [
    "def model():\n",
    "    poster = Person()\n",
    "    commenter = Commenter()\n",
    "    post = Post(poster)\n",
    "    comment = Comment(post, commenter)\n",
    "    \n",
    "    interest_prob = torch.tensor([0.5, 0.5])\n",
    "    interest = pyro.sample(\"interest\", dist.Categorical(interest_prob))\n",
    "#     interest = pyro.sample('interest', poster.interest)\n",
    "    topic = post.topic\n",
    "    c_interest = commenter.interest\n",
    "    match = torch.tensor(comment.constraint)\n",
    "    \n",
    "    return{'interest': interest,'topic': topic,'c_interest': c_interest,'match': match}\n",
    "\n",
    "print(model())"
   ]
  },
  {
   "cell_type": "code",
   "execution_count": 9,
   "metadata": {},
   "outputs": [
    {
     "data": {
      "text/plain": [
       "([<matplotlib.axis.XTick at 0x20474ee6668>,\n",
       "  <matplotlib.axis.XTick at 0x20474ec9f98>],\n",
       " <a list of 2 Text xticklabel objects>)"
      ]
     },
     "execution_count": 9,
     "metadata": {},
     "output_type": "execute_result"
    },
    {
     "data": {
      "image/png": "[encoded data removed]",
      "text/plain": [
       "<Figure size 432x288 with 1 Axes>"
      ]
     },
     "metadata": {
      "needs_background": "light"
     },
     "output_type": "display_data"
    }
   ],
   "source": [
    "conditioned_model = pyro.condition(model, data={'topic': torch.tensor(1)})\n",
    "posterior = pyro.infer.Importance(conditioned_model, num_samples=1000).run()\n",
    "marginal = EmpiricalMarginal(posterior, \"interest\")\n",
    "samples = [marginal().item() for _ in range(1000)]\n",
    "unique, counts = np.unique(samples, return_counts=True)\n",
    "\n",
    "plt.bar(unique, counts/1000, align='center')\n",
    "plt.xticks(unique, label['interest'])"
   ]
  }
 ],
 "metadata": {
  "kernelspec": {
   "display_name": "Python 3",
   "language": "python",
   "name": "python3"
  },
  "language_info": {
   "codemirror_mode": {
    "name": "ipython",
    "version": 3
   },
   "file_extension": ".py",
   "mimetype": "text/x-python",
   "name": "python",
   "nbconvert_exporter": "python",
   "pygments_lexer": "ipython3",
   "version": "3.7.3"
  }
 },
 "nbformat": 4,
 "nbformat_minor": 2
}
