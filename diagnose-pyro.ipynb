{
 "cells": [
  {
   "cell_type": "code",
   "execution_count": 1,
   "metadata": {},
   "outputs": [],
   "source": [
    "import pyro\n",
    "import torch\n",
    "pyro.set_rng_seed(101)\n",
    "\n",
    "import pyro.distributions as dist\n",
    "from pyro.infer import Importance, EmpiricalMarginal\n",
    "import matplotlib.pyplot as plt\n",
    "\n",
    "import numpy as np"
   ]
  },
  {
   "cell_type": "code",
   "execution_count": 2,
   "metadata": {},
   "outputs": [],
   "source": [
    "prob_dict = {\n",
    "    'health': torch.tensor([0.6,0.4]),\n",
    "    'blood_pressure': torch.tensor([[0.4,0.2,0.4],[0.1,0.8,0.1]]),\n",
    "    'blood_oxygen': torch.tensor([[0.2,0.6,0.2],[0.02,0.08,0.9]]),\n",
    "    'tempreture': torch.tensor([[0.2,0.4,0.4],[0.1,0.8,0.1]]),\n",
    "    'doctor1': torch.tensor([[[0.9,0.1],[0.8,0.2],[0.6,0.4]],\n",
    "                             [[0.9,0.1],[0.7,0.3],[0.05,0.95]],\n",
    "                             [[0.9,0.1],[0.75,0.25],[0.6,0.4]]]),\n",
    "    'doctor2': torch.tensor([[[0.8,0.2],[0.6,0.4],[0.9,0.1]],\n",
    "                             [[0.8,0.2],[0.05,0.95],[0.9,0.1]],\n",
    "                             [[0.9,0.1],[0.6,0.4],[0.9,0.1]]]),\n",
    "    'action': torch.tensor([[[0.99,0.01],[0.7,0.3]],\n",
    "                           [[0.6,0.4],[0.05,0.95]]])\n",
    "}"
   ]
  },
  {
   "cell_type": "code",
   "execution_count": 3,
   "metadata": {},
   "outputs": [],
   "source": [
    "label_dict = {\n",
    "    'health': ['not health', 'health'],\n",
    "    'blood_pressure': ['low', 'normal', 'high'],\n",
    "    'blood_oxygen': ['very low', 'low', 'normal'],\n",
    "    'tempreture': ['low', 'normal', 'high'],\n",
    "    'doctor1': ['take action', 'no action'],\n",
    "    'doctor2': ['take action', 'no action'],\n",
    "    'action': ['take action', 'no action']\n",
    "}"
   ]
  },
  {
   "cell_type": "code",
   "execution_count": 4,
   "metadata": {},
   "outputs": [
    {
     "name": "stdout",
     "output_type": "stream",
     "text": [
      "{'h': tensor(0), 'bp': tensor(2), 'bo': tensor(1), 't': tensor(1), 'd1': tensor(0), 'd2': tensor(1), 'a': tensor(0)}\n"
     ]
    }
   ],
   "source": [
    "def model():\n",
    "    h = pyro.sample(\"h\", dist.Categorical(prob_dict['health']))\n",
    "    bp = pyro.sample(\"bp\", dist.Categorical(prob_dict['blood_pressure'][h]))\n",
    "    bo = pyro.sample(\"bo\", dist.Categorical(prob_dict['blood_oxygen'][h]))\n",
    "    t = pyro.sample(\"t\", dist.Categorical(prob_dict['tempreture'][h]))\n",
    "    d1 = pyro.sample(\"d1\", dist.Categorical(prob_dict['doctor1'][bp][bo]))\n",
    "    d2 = pyro.sample(\"d2\", dist.Categorical(prob_dict['doctor2'][bp][t]))\n",
    "    a = pyro.sample(\"a\", dist.Categorical(prob_dict['action'][d1][d2]))\n",
    "    \n",
    "    return{'h': h, 'bp': bp, 'bo': bo, 't': t, 'd1': d1, 'd2': d2, 'a': a}\n",
    "\n",
    "print(model())"
   ]
  },
  {
   "cell_type": "markdown",
   "metadata": {},
   "source": [
    "### calculate the causal effect by adjusting for health."
   ]
  },
  {
   "cell_type": "code",
   "execution_count": 5,
   "metadata": {},
   "outputs": [
    {
     "name": "stdout",
     "output_type": "stream",
     "text": [
      "P(not health | action = take action) = 0.784\n",
      "P(not health | action = no action) = 0.216\n",
      "P(health | action = take action) = 0.364\n",
      "P(health | action = no action) = 0.636\n"
     ]
    },
    {
     "data": {
      "text/plain": [
       "Text(0.5, 1.0, 'P(health | action = no action) = 0.636')"
      ]
     },
     "execution_count": 5,
     "metadata": {},
     "output_type": "execute_result"
    },
    {
     "data": {
      "image/png": "[encoded data removed]",
      "text/plain": [
       "<Figure size 432x288 with 1 Axes>"
      ]
     },
     "metadata": {
      "needs_background": "light"
     },
     "output_type": "display_data"
    }
   ],
   "source": [
    "probs = []\n",
    "for a in range(2):\n",
    "    p = 0    \n",
    "    h_model = pyro.condition(model, data={'a': torch.tensor(a)})\n",
    "    h_posterior = pyro.infer.Importance(h_model, num_samples=1000).run()\n",
    "    h_marginal = EmpiricalMarginal(h_posterior,\"h\")\n",
    "    h_samples = [h_marginal().item() for _ in range(1000)]\n",
    "    h_counts = np.unique(h_samples, return_counts=True)\n",
    "    p0 = h_counts[1][0] / 1000\n",
    "    p1 = h_counts[1][1] / 1000\n",
    "    probs.append([p0,p1])\n",
    "\n",
    "print('P(not health | action = take action) = ' + str(probs[0][0]))\n",
    "print('P(not health | action = no action) = ' + str(probs[0][1]))\n",
    "print('P(health | action = take action) = ' + str(probs[1][0]))\n",
    "print('P(health | action = no action) = ' + str(probs[1][1]))\n",
    "\n",
    "plt.bar(h_counts[0], h_counts[1]/1000, align='center')\n",
    "plt.title('P(health | action = no action) = ' + str(probs[1][1]))"
   ]
  },
  {
   "cell_type": "markdown",
   "metadata": {},
   "source": [
    "### Use `pyro.do` to calculate the causal effect"
   ]
  },
  {
   "cell_type": "code",
   "execution_count": 6,
   "metadata": {},
   "outputs": [
    {
     "name": "stdout",
     "output_type": "stream",
     "text": [
      "P(action = take action | do(health = not health)) = 0.757\n",
      "P(action = no action | do(health = not health)) = 0.243\n",
      "P(action = take action | do(health = health)) = 0.31699999999999995\n",
      "P(action = no action | do(health = health)) = 0.683\n"
     ]
    }
   ],
   "source": [
    "prob_do = []\n",
    "for h in range(2):\n",
    "    p = 0\n",
    "    do_model = pyro.do(model, data={'h': torch.tensor(h)})\n",
    "    a_sample_do_h = [do_model()['a'].item() for _ in range(1000)]\n",
    "    prob_a1_do_h = sum(a_sample_do_h) / 1000\n",
    "    prob_do.append(prob_a1_do_h)\n",
    "\n",
    "print('P(action = take action | do(health = not health)) = ' + str(1 - prob_do[0]))\n",
    "print('P(action = no action | do(health = not health)) = ' + str(prob_do[0]))\n",
    "print('P(action = take action | do(health = health)) = ' + str(1 - prob_do[1]))\n",
    "print('P(action = no action | do(health = health)) = ' + str(prob_do[1]))"
   ]
  }
 ],
 "metadata": {
  "kernelspec": {
   "display_name": "Python 3",
   "language": "python",
   "name": "python3"
  },
  "language_info": {
   "codemirror_mode": {
    "name": "ipython",
    "version": 3
   },
   "file_extension": ".py",
   "mimetype": "text/x-python",
   "name": "python",
   "nbconvert_exporter": "python",
   "pygments_lexer": "ipython3",
   "version": "3.7.3"
  }
 },
 "nbformat": 4,
 "nbformat_minor": 2
}
