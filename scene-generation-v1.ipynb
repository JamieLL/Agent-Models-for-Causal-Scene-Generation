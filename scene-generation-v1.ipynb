{
 "cells": [
  {
   "cell_type": "code",
   "execution_count": 17,
   "metadata": {},
   "outputs": [],
   "source": [
    "import pyro\n",
    "import torch\n",
    "pyro.set_rng_seed(101)\n",
    "\n",
    "import pyro.distributions as dist\n",
    "from pyro.infer import Importance, EmpiricalMarginal\n",
    "import matplotlib.pyplot as plt\n",
    "\n",
    "import numpy as np\n",
    "from collections import Counter\n",
    "from googlesearch import search"
   ]
  },
  {
   "cell_type": "code",
   "execution_count": 2,
   "metadata": {},
   "outputs": [],
   "source": [
    "alias = {'entity1':['person','animal'],\n",
    "         'entity2':['person','animal'],\n",
    "         'position1':['left','right'], \n",
    "         'position2':['left','right'], \n",
    "         'haircolor':['black', 'brown','red','golden'],\n",
    "         'hairlength':['short','long'],\n",
    "         'gender':['male','female'],\n",
    "         'age':['young','old'],\n",
    "         'color':['black', 'white', 'brown'],\n",
    "         'size':['little','large'],\n",
    "         'type':['cat','dog'],\n",
    "         'background':['park','home'],\n",
    "         'interaction':['fight','chase','call','hold']\n",
    "        }\n",
    "\n",
    "prob = {'entity1':torch.tensor([0.5,0.5]), \n",
    "        'entity2':torch.tensor([0.5,0.5]), \n",
    "        'position1':torch.tensor([0.5,0.5]), \n",
    "        'position2':torch.tensor([0.5,0.5]), \n",
    "        'haircolor':torch.tensor([0.25, 0.25,0.25,0.25]),\n",
    "        'hairlength':torch.tensor([0.5,0.5]),\n",
    "        'gender':torch.tensor([0.5,0.5]),\n",
    "        'age':torch.tensor([0.5,0.5]),\n",
    "        'color':torch.tensor([1/3,1/3,1/3]),\n",
    "        'size':torch.tensor([0.5,0.5]),\n",
    "        'type':torch.tensor([0.5,0.5]),\n",
    "        'background':torch.tensor([0.5,0.5]),\n",
    "        'interaction':torch.tensor([[[1/2,0,0,1/2],[0,1/2,1/2,0]], # e1=left, [e2=left. e2=right]\n",
    "                                     [[0,1/2,1/2,0],[1/2,0,0,1/2]]]) # e1=right, [e2=left. e2=right]\n",
    "       }"
   ]
  },
  {
   "cell_type": "code",
   "execution_count": 3,
   "metadata": {},
   "outputs": [],
   "source": [
    "class Person(object):\n",
    "    def __init__(self):\n",
    "        self.position1 = pyro.sample(\"position1\", dist.Categorical(probs=prob['position1'])) \n",
    "        self.haircolor = pyro.sample(\"haircolor\", dist.Categorical(probs=prob['haircolor']))\n",
    "        self.hairlength = pyro.sample(\"hairlength\", dist.Categorical(probs=prob['hairlength']))\n",
    "        self.gender = pyro.sample(\"gender\", dist.Categorical(probs=prob['gender']))\n",
    "        self.age = pyro.sample(\"age\", dist.Categorical(probs=prob['age']))"
   ]
  },
  {
   "cell_type": "code",
   "execution_count": 4,
   "metadata": {},
   "outputs": [],
   "source": [
    "class Animal(object):\n",
    "    def __init__(self):\n",
    "        self.position2 = pyro.sample('position2', dist.Categorical(prob['position2']))\n",
    "        self.color = pyro.sample('color', dist.Categorical(prob['color']))\n",
    "        self.size = pyro.sample('size', dist.Categorical(prob['size']))\n",
    "        self.type = pyro.sample('type', dist.Categorical(prob['type']))"
   ]
  },
  {
   "cell_type": "code",
   "execution_count": 5,
   "metadata": {},
   "outputs": [],
   "source": [
    "def generateEntity():\n",
    "    entity = pyro.sample(\"entity\", dist.Categorical(probs=prob['entity']))\n",
    "    if entity == 0:\n",
    "        return Person()\n",
    "    else:\n",
    "        return Animal()"
   ]
  },
  {
   "cell_type": "code",
   "execution_count": 6,
   "metadata": {},
   "outputs": [],
   "source": [
    "class Background(object):\n",
    "    def __init__(self):\n",
    "        self.background = pyro.sample('background', dist.Categorical(prob['background']))"
   ]
  },
  {
   "cell_type": "code",
   "execution_count": 7,
   "metadata": {},
   "outputs": [],
   "source": [
    "class Interaction(object):\n",
    "    def __init__(self, entity1, entity2):\n",
    "        self.interaction = pyro.sample('interaction', dist.Categorical(prob['interaction'][entity1.position1][entity2.position2]))"
   ]
  },
  {
   "cell_type": "code",
   "execution_count": 8,
   "metadata": {},
   "outputs": [],
   "source": [
    "def model():\n",
    "    person = Person()\n",
    "    animal = Animal()\n",
    "    background = Background()\n",
    "    interaction = Interaction(person, animal)"
   ]
  },
  {
   "cell_type": "code",
   "execution_count": 9,
   "metadata": {},
   "outputs": [],
   "source": [
    "def condition(model, evidence, num_samples = 1000):\n",
    "    condition_model = pyro.condition(model, data=evidence)\n",
    "    posterior = pyro.infer.Importance(condition_model, num_samples=num_samples).run()\n",
    "    return posterior"
   ]
  },
  {
   "cell_type": "code",
   "execution_count": 10,
   "metadata": {},
   "outputs": [],
   "source": [
    "def intervention(model, evidence, num_samples = 1000):\n",
    "    do_model = pyro.do(model, data=evidence)\n",
    "    posterior = pyro.infer.Importance(do_model, num_samples=num_samples).run()\n",
    "    return posterior"
   ]
  },
  {
   "cell_type": "code",
   "execution_count": 11,
   "metadata": {},
   "outputs": [],
   "source": [
    "def pltDistribution(posterior, infer, num_samples = 1000):\n",
    "    for i in range(len(infer)):\n",
    "        marginal = EmpiricalMarginal(posterior, infer[i])\n",
    "        samples = [marginal().item() for _ in range(num_samples)]\n",
    "        unique, counts = np.unique(samples, return_counts=True)\n",
    "        plt.figure(i)\n",
    "        plt.bar(unique, counts / num_samples, align='center')\n",
    "        plt.xticks(unique, alias[infer[i]])\n",
    "        plt.ylabel('prob')\n",
    "        plt.xlabel(infer[i])"
   ]
  },
  {
   "cell_type": "code",
   "execution_count": 12,
   "metadata": {},
   "outputs": [],
   "source": [
    "def mostOccurance(posterior, infer, num_samples = 1000):\n",
    "    sample = []\n",
    "    for i in range(num_samples): \n",
    "        trace = posterior()\n",
    "        value = []\n",
    "        for i in range(len(infer)):\n",
    "            value.append(trace.nodes[infer[i]]['value'])\n",
    "        sample.append(tuple(value))\n",
    "\n",
    "    most_common, num_most_common = Counter(sample).most_common(1)[0]\n",
    "    \n",
    "    infer_dict = {}\n",
    "    for i in range(len(infer)):\n",
    "        infer_dict[infer[i]] = alias[infer[i]][most_common[i]]\n",
    "    return infer_dict"
   ]
  },
  {
   "cell_type": "code",
   "execution_count": 13,
   "metadata": {},
   "outputs": [],
   "source": [
    "def getEntity(input_dic):\n",
    "    dic = {}\n",
    "    person = Person()\n",
    "    animal = Animal()\n",
    "    background = Background()\n",
    "    interaction = Interaction(person,animal)\n",
    "    entity_list = [person,animal,background,interaction]\n",
    "    for k in entity_list:\n",
    "        entity_dic = k.__dict__\n",
    "        dic.update(entity_dic)\n",
    "        \n",
    "    for k in dic:\n",
    "        dic[k] = alias[k][dic[k]]\n",
    "    dic.update(input_dic)\n",
    "    return dic"
   ]
  },
  {
   "cell_type": "code",
   "execution_count": 14,
   "metadata": {},
   "outputs": [],
   "source": [
    "def getScene(input_dict):\n",
    "    scene = str(\"A %s %s with %s %s hair %s a %s %s %s %s.\" % \n",
    "                (input_dict['age'],input_dict['gender'],input_dict['haircolor'],input_dict['hairlength'],\n",
    "                 input_dict['interaction'],input_dict['size'],input_dict['color'],input_dict['type'],\n",
    "                 input_dict['background']))\n",
    "    print(scene)\n",
    "    return scene"
   ]
  },
  {
   "cell_type": "code",
   "execution_count": 15,
   "metadata": {},
   "outputs": [],
   "source": [
    "def getPic(input_str,num_s=3):\n",
    "    for j in search(input_str, tld=\"com\", num = num_s, start = 0, stop=5, pause=2): \n",
    "        print(j) "
   ]
  },
  {
   "cell_type": "code",
   "execution_count": 18,
   "metadata": {},
   "outputs": [
    {
     "name": "stdout",
     "output_type": "stream",
     "text": [
      "A old male with red short hair call a large white dog park.\n",
      "https://animalfriendsofthevalleys.com/lost-found-reports-2/\n",
      "http://z1077fm.com/z-nation/cruisin-critter-report/\n",
      "https://arfok.org/pages/lost-found-archives\n",
      "https://www.purina.com/dogs/dog-breeds/collections/short-haired-dog-breeds\n",
      "https://www.animalallies.net/lost-and-found-pets\n"
     ]
    },
    {
     "data": {
      "image/png": "[encoded data removed]",
      "text/plain": [
       "<Figure size 432x288 with 1 Axes>"
      ]
     },
     "metadata": {
      "needs_background": "light"
     },
     "output_type": "display_data"
    },
    {
     "data": {
      "image/png": "[encoded data removed]",
      "text/plain": [
       "<Figure size 432x288 with 1 Axes>"
      ]
     },
     "metadata": {
      "needs_background": "light"
     },
     "output_type": "display_data"
    }
   ],
   "source": [
    "evidence = {'position1':torch.tensor(1),'position2':torch.tensor(0)}\n",
    "infer = ['interaction', 'background']\n",
    "infer_model = condition(model, evidence)\n",
    "pltDistribution(infer_model, infer)\n",
    "infer_res = mostOccurance(infer_model, infer)\n",
    "getPic(getScene(getEntity(infer_res)))"
   ]
  }
 ],
 "metadata": {
  "kernelspec": {
   "display_name": "Python 3",
   "language": "python",
   "name": "python3"
  },
  "language_info": {
   "codemirror_mode": {
    "name": "ipython",
    "version": 3
   },
   "file_extension": ".py",
   "mimetype": "text/x-python",
   "name": "python",
   "nbconvert_exporter": "python",
   "pygments_lexer": "ipython3",
   "version": "3.7.3"
  }
 },
 "nbformat": 4,
 "nbformat_minor": 2
}
