{
 "cells": [
  {
   "cell_type": "code",
   "execution_count": 1,
   "metadata": {},
   "outputs": [],
   "source": [
    "import pyro\n",
    "import torch\n",
    "pyro.set_rng_seed(101)\n",
    "\n",
    "import pyro.distributions as dist\n",
    "from pyro.infer import Importance, EmpiricalMarginal\n",
    "import matplotlib.pyplot as plt\n",
    "\n",
    "import numpy as np\n",
    "from collections import Counter\n",
    "from googlesearch import search\n",
    "from ipywidgets import interactive\n",
    "from IPython.display import display"
   ]
  },
  {
   "cell_type": "code",
   "execution_count": 2,
   "metadata": {},
   "outputs": [],
   "source": [
    "alias = {'entity1':['person','animal'],\n",
    "         'entity2':['person','animal'],\n",
    "         'position1':['left','right'], \n",
    "         'position2':['left','right'], \n",
    "         'haircolor':['black', 'brown','red','golden'],\n",
    "         'hairlength':['short','long'],\n",
    "         'gender':['male','female'],\n",
    "         'age':['young','old'],\n",
    "         'color':['black', 'white', 'brown'],\n",
    "         'size':['little','large'],\n",
    "         'type':['cat','dog'],\n",
    "         'background':['park','home'],\n",
    "         'interaction':['fight','chase','call','hold']\n",
    "        }\n",
    "\n",
    "prob = {'entity1':torch.tensor([0.5,0.5]), \n",
    "        'entity2':torch.tensor([0.5,0.5]), \n",
    "        'position1':torch.tensor([0.5,0.5]), \n",
    "        'position2':torch.tensor([0.5,0.5]), \n",
    "        'haircolor':torch.tensor([0.25, 0.25,0.25,0.25]),\n",
    "        'hairlength':torch.tensor([0.5,0.5]),\n",
    "        'gender':torch.tensor([0.5,0.5]),\n",
    "        'age':torch.tensor([0.5,0.5]),\n",
    "        'color':torch.tensor([1/3,1/3,1/3]),\n",
    "        'size':torch.tensor([0.5,0.5]),\n",
    "        'type':torch.tensor([0.5,0.5]),\n",
    "        'background':torch.tensor([0.5,0.5]),\n",
    "        'interaction':torch.tensor([[[1/2,0,0,1/2],[0,1/2,1/2,0]], # e1=left, [e2=left. e2=right]\n",
    "                                     [[0,1/2,1/2,0],[1/2,0,0,1/2]]]) # e1=right, [e2=left. e2=right]\n",
    "       }\n",
    "\n",
    "causal_var = ['position1', 'position2', 'background', 'interaction']\n",
    "other_var = ['haircolor', 'hairlength', 'gender', 'age', 'color', 'size', 'type']"
   ]
  },
  {
   "cell_type": "code",
   "execution_count": 3,
   "metadata": {},
   "outputs": [],
   "source": [
    "class Person(object):\n",
    "    def __init__(self):\n",
    "        self.position1 = pyro.sample(\"position1\", dist.Categorical(probs=prob['position1'])) \n",
    "        self.haircolor = pyro.sample(\"haircolor\", dist.Categorical(probs=prob['haircolor']))\n",
    "        self.hairlength = pyro.sample(\"hairlength\", dist.Categorical(probs=prob['hairlength']))\n",
    "        self.gender = pyro.sample(\"gender\", dist.Categorical(probs=prob['gender']))\n",
    "        self.age = pyro.sample(\"age\", dist.Categorical(probs=prob['age']))"
   ]
  },
  {
   "cell_type": "code",
   "execution_count": 4,
   "metadata": {},
   "outputs": [],
   "source": [
    "class Animal(object):\n",
    "    def __init__(self):\n",
    "        self.position2 = pyro.sample('position2', dist.Categorical(prob['position2']))\n",
    "        self.color = pyro.sample('color', dist.Categorical(prob['color']))\n",
    "        self.size = pyro.sample('size', dist.Categorical(prob['size']))\n",
    "        self.type = pyro.sample('type', dist.Categorical(prob['type']))"
   ]
  },
  {
   "cell_type": "code",
   "execution_count": 5,
   "metadata": {},
   "outputs": [],
   "source": [
    "def generateEntity():\n",
    "    entity = pyro.sample(\"entity\", dist.Categorical(probs=prob['entity']))\n",
    "    if entity == 0:\n",
    "        return Person()\n",
    "    else:\n",
    "        return Animal()"
   ]
  },
  {
   "cell_type": "code",
   "execution_count": 6,
   "metadata": {},
   "outputs": [],
   "source": [
    "class Background(object):\n",
    "    def __init__(self):\n",
    "        self.background = pyro.sample('background', dist.Categorical(prob['background']))"
   ]
  },
  {
   "cell_type": "code",
   "execution_count": 7,
   "metadata": {},
   "outputs": [],
   "source": [
    "class Interaction(object):\n",
    "    def __init__(self, entity1, entity2):\n",
    "        self.interaction = pyro.sample('interaction', dist.Categorical(prob['interaction'][entity1.position1][entity2.position2]))"
   ]
  },
  {
   "cell_type": "code",
   "execution_count": 8,
   "metadata": {},
   "outputs": [],
   "source": [
    "def model():\n",
    "    person = Person()\n",
    "    animal = Animal()\n",
    "    background = Background()\n",
    "    interaction = Interaction(person, animal)"
   ]
  },
  {
   "cell_type": "code",
   "execution_count": 9,
   "metadata": {},
   "outputs": [],
   "source": [
    "def condition(model, evidence, num_samples = 1000):\n",
    "    condition_model = pyro.condition(model, data=evidence)\n",
    "    posterior = pyro.infer.Importance(condition_model, num_samples=num_samples).run()\n",
    "    return posterior"
   ]
  },
  {
   "cell_type": "code",
   "execution_count": 10,
   "metadata": {},
   "outputs": [],
   "source": [
    "def intervention(model, evidence, num_samples = 1000):\n",
    "    do_model = pyro.do(model, data=evidence)\n",
    "    posterior = pyro.infer.Importance(do_model, num_samples=num_samples).run()\n",
    "    return posterior"
   ]
  },
  {
   "cell_type": "code",
   "execution_count": 11,
   "metadata": {},
   "outputs": [],
   "source": [
    "def pltDistribution(posterior, infer, num_samples = 1000):\n",
    "    for i in range(len(infer)):\n",
    "        marginal = EmpiricalMarginal(posterior, infer[i])\n",
    "        samples = [marginal().item() for _ in range(num_samples)]\n",
    "        unique, counts = np.unique(samples, return_counts=True)\n",
    "        plt.figure(i)\n",
    "        plt.bar(unique, counts / num_samples, align='center')\n",
    "        plt.xticks(unique, alias[infer[i]])\n",
    "        plt.ylabel('prob')\n",
    "        plt.xlabel(infer[i])"
   ]
  },
  {
   "cell_type": "code",
   "execution_count": 12,
   "metadata": {},
   "outputs": [],
   "source": [
    "def mostOccurance(posterior, infer, num_samples = 1000):\n",
    "    sample = []\n",
    "    for i in range(num_samples): \n",
    "        trace = posterior()\n",
    "        value = []\n",
    "        for i in range(len(infer)):\n",
    "            value.append(trace.nodes[infer[i]]['value'])\n",
    "        sample.append(tuple(value))\n",
    "\n",
    "    most_common, num_most_common = Counter(sample).most_common(1)[0]\n",
    "    \n",
    "    infer_dict = {}\n",
    "    for i in range(len(infer)):\n",
    "        infer_dict[infer[i]] = alias[infer[i]][most_common[i]]\n",
    "    return infer_dict"
   ]
  },
  {
   "cell_type": "code",
   "execution_count": 13,
   "metadata": {},
   "outputs": [],
   "source": [
    "def getEntity(input_dic):\n",
    "    dic = {}\n",
    "    person = Person()\n",
    "    animal = Animal()\n",
    "    background = Background()\n",
    "    interaction = Interaction(person,animal)\n",
    "    entity_list = [person,animal,background,interaction]\n",
    "    for k in entity_list:\n",
    "        entity_dic = k.__dict__\n",
    "        dic.update(entity_dic)\n",
    "        \n",
    "    for k in dic:\n",
    "        dic[k] = alias[k][dic[k]]\n",
    "    dic.update(input_dic)\n",
    "    return dic"
   ]
  },
  {
   "cell_type": "code",
   "execution_count": 14,
   "metadata": {},
   "outputs": [],
   "source": [
    "def getScene(input_dict):\n",
    "    scene = str(\"A %s %s with %s %s hair %s a %s %s %s %s.\" % \n",
    "                (input_dict['age'],input_dict['gender'],input_dict['haircolor'],input_dict['hairlength'],\n",
    "                 input_dict['interaction'],input_dict['size'],input_dict['color'],input_dict['type'],\n",
    "                 input_dict['background']))\n",
    "    print(scene)\n",
    "    return scene"
   ]
  },
  {
   "cell_type": "code",
   "execution_count": 15,
   "metadata": {},
   "outputs": [],
   "source": [
    "def getPic(input_str,num_s=3):\n",
    "    for j in search(input_str, tld=\"com\", num = num_s, start = 0, stop=5, pause=2): \n",
    "        print(j) "
   ]
  },
  {
   "cell_type": "code",
   "execution_count": 16,
   "metadata": {},
   "outputs": [],
   "source": [
    "def f_interactive(position1,position2,haircolor,hairlength,gender,age,color,size,type,background,interaction):\n",
    "    pass\n",
    "\n",
    "w = interactive(f_interactive, \n",
    "                   position1=sum([[\"-\"],alias['position1']], []),\n",
    "                   position2=sum([[\"-\"],alias['position2']], []),\n",
    "                   haircolor=sum([[\"-\"],alias['haircolor']], []),\n",
    "                   hairlength=sum([[\"-\"],alias['hairlength']], []),\n",
    "                   gender=sum([[\"-\"],alias['gender']], []),\n",
    "                   age=sum([[\"-\"],alias['age']], []),\n",
    "                   color=sum([[\"-\"],alias['color']], []),\n",
    "                   size=sum([[\"-\"],alias['size']], []),\n",
    "                   type=sum([[\"-\"],alias['type']], []),\n",
    "                   background=sum([[\"-\"],alias['background']], []),\n",
    "                   interaction=sum([[\"-\"],alias['interaction']], []))"
   ]
  },
  {
   "cell_type": "code",
   "execution_count": 17,
   "metadata": {},
   "outputs": [],
   "source": [
    "def getVar(w):\n",
    "    do_var = w.kwargs\n",
    "    do_causal_var = {}\n",
    "    do_other_var = {}\n",
    "    for var in causal_var:\n",
    "        if do_var[var] == '-':\n",
    "            continue\n",
    "        else:\n",
    "            do_causal_var[var] = torch.tensor(alias[var].index(do_var[var]))\n",
    "    for var in other_var:\n",
    "        if do_var[var] == '-':\n",
    "            continue\n",
    "        else:\n",
    "            do_other_var[var] = torch.tensor(alias[var].index(do_var[var]))\n",
    "    return do_causal_var, do_other_var"
   ]
  },
  {
   "cell_type": "code",
   "execution_count": 18,
   "metadata": {},
   "outputs": [],
   "source": [
    "def getInfer(do_causal_var):\n",
    "    do_causal_var_key = list(do_causal_var.keys())\n",
    "    for var in do_causal_var_key:\n",
    "        if var in infer_all:\n",
    "            infer_all.remove(var)"
   ]
  },
  {
   "cell_type": "code",
   "execution_count": 19,
   "metadata": {},
   "outputs": [
    {
     "data": {
      "application/vnd.jupyter.widget-view+json": {
       "model_id": "7a42c3e7fa00433997dfd99f393e4e99",
       "version_major": 2,
       "version_minor": 0
      },
      "text/plain": [
       "interactive(children=(Dropdown(description='position1', options=('-', 'left', 'right'), value='-'), Dropdown(d…"
      ]
     },
     "metadata": {},
     "output_type": "display_data"
    }
   ],
   "source": [
    "display(w)"
   ]
  },
  {
   "cell_type": "code",
   "execution_count": 20,
   "metadata": {},
   "outputs": [
    {
     "name": "stdout",
     "output_type": "stream",
     "text": [
      "A young male with black long hair chase a little brown dog home.\n",
      "http://trianglelostpets.org/searchs.php\n",
      "http://trianglelostpets.org/searchr.php\n"
     ]
    }
   ],
   "source": [
    "do_causal_var, do_other_var = getVar(w)\n",
    "infer_all = ['interaction', 'background']\n",
    "infer = getInfer(do_causal_var)\n",
    "infer_model = condition(model, evidence = do_causal_var)\n",
    "infer_res = {}\n",
    "if infer:\n",
    "    pltDistribution(infer_model, infer)\n",
    "    infer_res = mostOccurance(infer_model, infer)\n",
    "getPic(getScene(getEntity(infer_res)))"
   ]
  }
 ],
 "metadata": {
  "kernelspec": {
   "display_name": "Python 3",
   "language": "python",
   "name": "python3"
  },
  "language_info": {
   "codemirror_mode": {
    "name": "ipython",
    "version": 3
   },
   "file_extension": ".py",
   "mimetype": "text/x-python",
   "name": "python",
   "nbconvert_exporter": "python",
   "pygments_lexer": "ipython3",
   "version": "3.7.3"
  }
 },
 "nbformat": 4,
 "nbformat_minor": 2
}
