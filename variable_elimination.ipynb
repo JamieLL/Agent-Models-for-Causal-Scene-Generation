{
 "cells": [
  {
   "cell_type": "code",
   "execution_count": 1,
   "metadata": {},
   "outputs": [],
   "source": [
    "import numpy as np\n",
    "import pandas as pd\n",
    "import random\n",
    "\n",
    "from pgmpy.models import BayesianModel\n",
    "from pgmpy.inference import VariableElimination\n",
    "\n",
    "from memo import memo"
   ]
  },
  {
   "cell_type": "code",
   "execution_count": 2,
   "metadata": {},
   "outputs": [],
   "source": [
    "label = {'interest': [\"sports\", \"politics\"],\n",
    "         'connect_type': [\"acquaintance\", \"close friend\", \"family\"],\n",
    "    }"
   ]
  },
  {
   "cell_type": "code",
   "execution_count": 3,
   "metadata": {},
   "outputs": [],
   "source": [
    "class Person(object):\n",
    "    def __init__(self):\n",
    "        self.interest = self.getInterest()\n",
    "    \n",
    "    def getInterest(self):\n",
    "        self.interest = random.randint(0, 1)\n",
    "        return self.interest"
   ]
  },
  {
   "cell_type": "code",
   "execution_count": 4,
   "metadata": {},
   "outputs": [
    {
     "name": "stdout",
     "output_type": "stream",
     "text": [
      "1\n"
     ]
    }
   ],
   "source": [
    "person1 = Person()\n",
    "print(person1.interest)"
   ]
  },
  {
   "cell_type": "code",
   "execution_count": 5,
   "metadata": {},
   "outputs": [],
   "source": [
    "class Post(object):\n",
    "    def __init__(self, poster):\n",
    "        self.poster = poster\n",
    "        self.topic = self.getTopic()\n",
    "        \n",
    "    def getTopic(self):\n",
    "        isPoster = random.choices([0,1], weights = [1,9], k=1)[0]\n",
    "        if isPoster:\n",
    "            self.topic = self.poster.interest\n",
    "        else:\n",
    "            self.topic = random.randint(0, 1)\n",
    "        return self.topic"
   ]
  },
  {
   "cell_type": "code",
   "execution_count": 6,
   "metadata": {},
   "outputs": [
    {
     "name": "stdout",
     "output_type": "stream",
     "text": [
      "1\n"
     ]
    }
   ],
   "source": [
    "post1 = Post(person1)\n",
    "print(post1.topic)"
   ]
  },
  {
   "cell_type": "code",
   "execution_count": 7,
   "metadata": {},
   "outputs": [],
   "source": [
    "class Connection(object):\n",
    "    def __init__(self, person1, person2):\n",
    "        self.person1 = person1\n",
    "        self.person2 = person2\n",
    "        self.type = self.getType()[0]\n",
    "        \n",
    "    def getType(self):\n",
    "        self.type = random.choices([0,1,2], k=1)\n",
    "        return self.type\n",
    "\n",
    "@memo\n",
    "def generateConnection(person1, person2):\n",
    "    return Connection(person1, person2)"
   ]
  },
  {
   "cell_type": "code",
   "execution_count": 8,
   "metadata": {},
   "outputs": [],
   "source": [
    "person1 = Person()\n",
    "person2 = Person()"
   ]
  },
  {
   "cell_type": "code",
   "execution_count": 9,
   "metadata": {},
   "outputs": [
    {
     "data": {
      "text/plain": [
       "2"
      ]
     },
     "execution_count": 9,
     "metadata": {},
     "output_type": "execute_result"
    }
   ],
   "source": [
    "generateConnection(person1, person2).type"
   ]
  },
  {
   "cell_type": "code",
   "execution_count": 10,
   "metadata": {},
   "outputs": [],
   "source": [
    "class Comment(object):\n",
    "    def __init__(self, post, commenter):\n",
    "        self.post = post\n",
    "        self.commenter = commenter\n",
    "        self.isTopicMatch = post.topic == commenter.interest\n",
    "        self.connectionType = generateConnection(post.poster, commenter).type\n",
    "        self.constraint = self.getConstraint()\n",
    "        \n",
    "    def getConstraint(self):\n",
    "        if self.isTopicMatch: \n",
    "            self.constraint = 1\n",
    "        elif self.connectionType == 2:\n",
    "            self.constraint = 0.8\n",
    "        elif self.connectionType == 1:\n",
    "            self.constraint = 0.5\n",
    "        else:\n",
    "            self.constraint = 0.1\n",
    "        return self.constraint"
   ]
  },
  {
   "cell_type": "code",
   "execution_count": 11,
   "metadata": {},
   "outputs": [],
   "source": [
    "amy = Person()\n",
    "brian = Person()\n",
    "cheryl = Person()\n",
    "\n",
    "post1 = Post(amy)\n",
    "post2 = Post(brian)\n",
    "post3 = Post(amy)\n",
    "\n",
    "comment1 = Comment(post1, brian)\n",
    "comment2 = Comment(post1, cheryl)\n",
    "comment3 = Comment(post2, amy)\n",
    "comment4 = Comment(post3, cheryl)"
   ]
  },
  {
   "cell_type": "code",
   "execution_count": 12,
   "metadata": {},
   "outputs": [],
   "source": [
    "### Generate instance\n",
    "interest = []\n",
    "topic = []\n",
    "c_interest = []\n",
    "match = []\n",
    "relationship = []\n",
    "for i in range(1000):\n",
    "    Amy = Person()\n",
    "    Brian = Person()\n",
    "    post1 = Post(Amy)\n",
    "    comment1 = Comment(post1, Brian)\n",
    "    rlt = generateConnection(Amy,Brian).type\n",
    "    interest.append(Amy.interest)\n",
    "    topic.append(post1.topic)\n",
    "    match.append(comment1.constraint)\n",
    "    c_interest.append(Brian.interest)\n",
    "    relationship.append(rlt)"
   ]
  },
  {
   "cell_type": "code",
   "execution_count": 13,
   "metadata": {},
   "outputs": [],
   "source": [
    "### fit model and using VariableElimination to calculate the posterior probability \n",
    "d = {'interest':interest, 'topic':topic, \"c_interest\":c_interest, 'match':match, 'relationship':relationship}\n",
    "values = pd.DataFrame(data = d)\n",
    "model = BayesianModel([('interest', 'topic'), ('topic', 'match'), ('c_interest', 'match'),('relationship','interest'),('relationship','c_interest')])\n",
    "model.fit(values)\n",
    "inference = VariableElimination(model)"
   ]
  },
  {
   "cell_type": "code",
   "execution_count": 15,
   "metadata": {},
   "outputs": [],
   "source": [
    "senario_1 = inference.query(['interest'],evidence={'relationship':2,'topic':0},show_progress=False)\n",
    "senario_1_c = inference.query(['c_interest','match'],evidence={'relationship':2,'topic':0},show_progress=False)"
   ]
  },
  {
   "cell_type": "code",
   "execution_count": 16,
   "metadata": {},
   "outputs": [
    {
     "name": "stdout",
     "output_type": "stream",
     "text": [
      "Amy(Poster)'s interest given post topic = 'sports', relationtype = 'family'.\n",
      " +-------------+-----------------+\n",
      "| interest    |   phi(interest) |\n",
      "+=============+=================+\n",
      "| interest(0) |          0.9633 |\n",
      "+-------------+-----------------+\n",
      "| interest(1) |          0.0367 |\n",
      "+-------------+-----------------+\n"
     ]
    }
   ],
   "source": [
    "print(\"Amy(Poster)'s interest given post topic = 'sports', relationtype = 'family'.\\n\",senario_1)"
   ]
  },
  {
   "cell_type": "code",
   "execution_count": 17,
   "metadata": {},
   "outputs": [
    {
     "name": "stdout",
     "output_type": "stream",
     "text": [
      "Brian(Commenter)'s interest given post topic = 'sports', relationtype = 'family'.\n",
      " +------------+---------------+-------------------------+\n",
      "| match      | c_interest    |   phi(match,c_interest) |\n",
      "+============+===============+=========================+\n",
      "| match(0.1) | c_interest(0) |                  0.0000 |\n",
      "+------------+---------------+-------------------------+\n",
      "| match(0.1) | c_interest(1) |                  0.1768 |\n",
      "+------------+---------------+-------------------------+\n",
      "| match(0.5) | c_interest(0) |                  0.0000 |\n",
      "+------------+---------------+-------------------------+\n",
      "| match(0.5) | c_interest(1) |                  0.1619 |\n",
      "+------------+---------------+-------------------------+\n",
      "| match(0.8) | c_interest(0) |                  0.0000 |\n",
      "+------------+---------------+-------------------------+\n",
      "| match(0.8) | c_interest(1) |                  0.1597 |\n",
      "+------------+---------------+-------------------------+\n",
      "| match(1.0) | c_interest(0) |                  0.5016 |\n",
      "+------------+---------------+-------------------------+\n",
      "| match(1.0) | c_interest(1) |                  0.0000 |\n",
      "+------------+---------------+-------------------------+\n"
     ]
    }
   ],
   "source": [
    "print(\"Brian(Commenter)'s interest given post topic = 'sports', relationtype = 'family'.\\n\",senario_1_c)"
   ]
  },
  {
   "cell_type": "code",
   "execution_count": 18,
   "metadata": {},
   "outputs": [],
   "source": [
    "senario_2 = inference.query(['interest'],evidence={'topic':1,'match':1},show_progress=False)\n",
    "senario_2_c = inference.query(['c_interest'],evidence={'topic':1,'match':1},show_progress=False)"
   ]
  },
  {
   "cell_type": "code",
   "execution_count": 19,
   "metadata": {},
   "outputs": [
    {
     "name": "stdout",
     "output_type": "stream",
     "text": [
      "Amy(Poster)'s interest given post topic = 'politics', topic_match = 1.\n",
      " +-------------+-----------------+\n",
      "| interest    |   phi(interest) |\n",
      "+=============+=================+\n",
      "| interest(0) |          0.0493 |\n",
      "+-------------+-----------------+\n",
      "| interest(1) |          0.9507 |\n",
      "+-------------+-----------------+\n"
     ]
    }
   ],
   "source": [
    "print(\"Amy(Poster)'s interest given post topic = 'politics', topic_match = 1.\\n\",senario_2)"
   ]
  },
  {
   "cell_type": "code",
   "execution_count": 20,
   "metadata": {},
   "outputs": [
    {
     "name": "stdout",
     "output_type": "stream",
     "text": [
      "Brian(Poster)'s interest given post topic = 'politics', topic_match = 1.\n",
      " +---------------+-------------------+\n",
      "| c_interest    |   phi(c_interest) |\n",
      "+===============+===================+\n",
      "| c_interest(0) |            0.0000 |\n",
      "+---------------+-------------------+\n",
      "| c_interest(1) |            1.0000 |\n",
      "+---------------+-------------------+\n"
     ]
    }
   ],
   "source": [
    "print(\"Brian(Poster)'s interest given post topic = 'politics', topic_match = 1.\\n\",senario_2_c)"
   ]
  }
 ],
 "metadata": {
  "kernelspec": {
   "display_name": "Python 3",
   "language": "python",
   "name": "python3"
  },
  "language_info": {
   "codemirror_mode": {
    "name": "ipython",
    "version": 3
   },
   "file_extension": ".py",
   "mimetype": "text/x-python",
   "name": "python",
   "nbconvert_exporter": "python",
   "pygments_lexer": "ipython3",
   "version": "3.7.3"
  }
 },
 "nbformat": 4,
 "nbformat_minor": 2
}
